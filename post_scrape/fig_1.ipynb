{
 "cells": [
  {
   "cell_type": "code",
   "execution_count": 1,
   "id": "68bfc882-fe59-4a7f-b502-c74314814c13",
   "metadata": {},
   "outputs": [],
   "source": [
    "import plotly.express as px\n",
    "import plotly.io as pio\n",
    "from constants import GENRE_K\n",
    "from load_scrape_data import get_clean_data_df"
   ]
  },
  {
   "cell_type": "code",
   "execution_count": 2,
   "id": "8028c7b5-cb3f-49e5-ac72-67d75b1d88dc",
   "metadata": {},
   "outputs": [],
   "source": [
    "pio.renderers.default = 'iframe_connected'"
   ]
  },
  {
   "cell_type": "code",
   "execution_count": 3,
   "id": "ad4dadb6-17cd-4b63-91e8-fe0fca1df0e2",
   "metadata": {},
   "outputs": [],
   "source": [
    "df = get_clean_data_df()"
   ]
  },
  {
   "cell_type": "markdown",
   "id": "bb943396-27e0-4dae-a08a-9f0b5cc1aef8",
   "metadata": {},
   "source": [
    "#### There are many genres of varying specificity. These 3 are a microcosm of the issue:\n",
    "`'Auto Racing'`, `'Simulation'`, `'Auto Racing Sim'`"
   ]
  },
  {
   "cell_type": "code",
   "execution_count": 4,
   "id": "4259d541-8eaa-4ade-a97e-340d3b1b09d3",
   "metadata": {},
   "outputs": [
    {
     "name": "stdout",
     "output_type": "stream",
     "text": [
      "122 unique genres:\n",
      "[\"2D Beat-'Em-Up\", '2D Fighting', '2D Platformer', \"3D Beat-'Em-Up\", '3D Fighting', '3D Platformer', '4X Strategy', 'Action', 'Action Adventure', 'Action Puzzle', 'Action RPG', 'Adventure', 'Aircraft Combat Sim', 'Aircraft Sim', 'Application', 'Arcade', 'Arcade Racing', 'Artillery', 'Athletics', 'Auto Racing', 'Auto Racing Sim', 'Baseball', 'Baseball Sim', 'Basketball', 'Basketball Sim', 'Biking', 'Billiards', 'Board', 'Bowling', 'Card Battle', 'Combat Sport', 'Command RTS', 'Compilation', 'Console', 'Cricket', 'Dancing', 'Defense', 'Demo Disc', 'Edutainment', 'Exercise', 'FPS', 'First-Person Adventure', 'Fishing', 'Football', 'Football Sim', 'Future Racing', 'Future Sport', 'Gambling', 'Golf', 'Golf Sim', 'Hardware', 'Hidden Object', 'Hockey', 'Hockey Sim', \"Horizontal Shoot-'Em-Up\", 'Horse Racing', 'Hunting', 'Individual Sports', 'JRPG', 'Light Gun', 'Linear Action Adventure', 'Logic Puzzle', 'MMORPG', 'MOBA', 'Management', 'Marine Combat Sim', 'Marine Sim', 'Matching Puzzle', 'Metroidvania', 'Miscellaneous', 'Open-World Action', 'Party', 'Pinball', 'Point-and-Click', 'Puzzle', 'RPG', 'Racing', 'Racing Sim', 'Rail Shooter', 'Real-Time Strategy', 'Real-Time Tactics', 'Rhythm', 'Roguelike', 'Rugby', 'Sandbox', 'Simulation', 'Skating', 'Skiing', 'Soccer', 'Soccer Management', 'Soccer Sim', 'Space Combat Sim', 'Space Sim', 'Sports', 'Stacking Puzzle', 'Strategy', 'Surfing', 'Survival', 'Tactical FPS', 'Tactical Third Person Shooter', 'Team Sports', 'Tennis', 'Text Adventure', 'Third Person Shooter', 'Third-Person Adventure', \"Top-Down Shoot-'Em-Up\", 'Train Sim', 'Trainer RPG', 'Trivia', 'Turn-Based Strategy', 'Turn-Based Tactics', 'Tycoon', 'Vehicle Combat Sim', 'Vehicle Sim', \"Vertical Shoot-'Em-Up\", 'Virtual Career', 'Virtual Life', 'Virtual Pet', 'Visual Novel', 'Volleyball', 'Western RPG', 'Wrestling']\n"
     ]
    }
   ],
   "source": [
    "genre_v_counts = df[GENRE_K].value_counts()\n",
    "genres = genre_v_counts.keys()\n",
    "num_genres = len(genres)\n",
    "print(f'{num_genres} unique {GENRE_K}s:')\n",
    "print(sorted(genres))"
   ]
  },
  {
   "cell_type": "code",
   "execution_count": 5,
   "id": "35d33eed-797f-43fd-b06a-c5e201773d46",
   "metadata": {},
   "outputs": [
    {
     "data": {
      "text/html": [
       "<iframe\n",
       "    scrolling=\"no\"\n",
       "    width=\"100%\"\n",
       "    height=\"545px\"\n",
       "    src=\"iframe_figures/figure_5.html\"\n",
       "    frameborder=\"0\"\n",
       "    allowfullscreen\n",
       "></iframe>\n"
      ]
     },
     "metadata": {},
     "output_type": "display_data"
    }
   ],
   "source": [
    "fig = px.pie(\n",
    "    values=genre_v_counts.values,\n",
    "    names=genre_v_counts.index\n",
    ")\n",
    "fig.update_traces(\n",
    "    textposition='inside'   # % labels in slices\n",
    ")\n",
    "size = 16\n",
    "fig.update_layout(\n",
    "    font={'size': size},\n",
    "    legend_title_text='genre (descending order of count)',\n",
    "    legend={'x':0.73},\n",
    "    uniformtext_minsize=size,   # use this size labels & if that's too big hide it\n",
    "    uniformtext_mode='hide',\n",
    ")"
   ]
  }
 ],
 "metadata": {
  "kernelspec": {
   "display_name": "Python 3 (ipykernel)",
   "language": "python",
   "name": "python3"
  },
  "language_info": {
   "codemirror_mode": {
    "name": "ipython",
    "version": 3
   },
   "file_extension": ".py",
   "mimetype": "text/x-python",
   "name": "python",
   "nbconvert_exporter": "python",
   "pygments_lexer": "ipython3",
   "version": "3.11.6"
  }
 },
 "nbformat": 4,
 "nbformat_minor": 5
}
