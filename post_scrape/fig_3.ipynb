{
  "cells": [
    {
      "cell_type": "code",
      "execution_count": 1,
      "id": "92acedfe-6846-4eb3-b3fc-73460ecde265",
      "metadata": {},
      "outputs": [],
      "source": [
        "import pandas as pd\n",
        "import plotly.express as px\n",
        "import plotly.io as pio\n",
        "from load_scrape_data import get_clean_data_df\n",
        "\n",
        "from constants import (\n",
        "    CRIT_SCORE_K,\n",
        "    DATE_K,\n",
        "    SCORE_KS,\n",
        "    USER_SCORE_K,\n",
        ")"
      ]
    },
    {
      "cell_type": "code",
      "execution_count": 2,
      "id": "b245bbc3-b5aa-4731-a05d-7f5ba7d4fc36",
      "metadata": {},
      "outputs": [],
      "source": [
        "pio.renderers.default = 'iframe_connected'"
      ]
    },
    {
      "cell_type": "code",
      "execution_count": 3,
      "id": "202e5b44-2cfb-4546-9659-fb5d07fe5e8b",
      "metadata": {},
      "outputs": [],
      "source": [
        "df = get_clean_data_df()"
      ]
    },
    {
      "cell_type": "code",
      "execution_count": 4,
      "id": "cf7f3b71-035f-4426-bdbc-5766de11b90d",
      "metadata": {
        "scrolled": true
      },
      "outputs": [
        {
          "data": {
            "text/html": [
              "<div>\n",
              "<style scoped>\n",
              "    .dataframe tbody tr th:only-of-type {\n",
              "        vertical-align: middle;\n",
              "    }\n",
              "\n",
              "    .dataframe tbody tr th {\n",
              "        vertical-align: top;\n",
              "    }\n",
              "\n",
              "    .dataframe thead th {\n",
              "        text-align: right;\n",
              "    }\n",
              "</style>\n",
              "<table border=\"1\" class=\"dataframe\">\n",
              "  <thead>\n",
              "    <tr style=\"text-align: right;\">\n",
              "      <th></th>\n",
              "      <th>\u03bc(users' score)</th>\n",
              "      <th>\u03bc(critics' score)</th>\n",
              "      <th>\u03c3(users' score)</th>\n",
              "      <th>\u03c3(critics' score)</th>\n",
              "    </tr>\n",
              "    <tr>\n",
              "      <th>date</th>\n",
              "      <th></th>\n",
              "      <th></th>\n",
              "      <th></th>\n",
              "      <th></th>\n",
              "    </tr>\n",
              "  </thead>\n",
              "  <tbody>\n",
              "    <tr>\n",
              "      <th>2004-02-15</th>\n",
              "      <td>71.494118</td>\n",
              "      <td>68.574074</td>\n",
              "      <td>15.226562</td>\n",
              "      <td>11.855204</td>\n",
              "    </tr>\n",
              "    <tr>\n",
              "      <th>2004-05-16</th>\n",
              "      <td>67.666667</td>\n",
              "      <td>67.09434</td>\n",
              "      <td>17.799051</td>\n",
              "      <td>15.333454</td>\n",
              "    </tr>\n",
              "  </tbody>\n",
              "</table>\n",
              "</div>"
            ],
            "text/plain": [
              "           \u03bc(users' score) \u03bc(critics' score)  \u03c3(users' score)  \\\n",
              "date                                                            \n",
              "2004-02-15       71.494118         68.574074        15.226562   \n",
              "2004-05-16       67.666667          67.09434        17.799051   \n",
              "\n",
              "            \u03c3(critics' score)  \n",
              "date                           \n",
              "2004-02-15          11.855204  \n",
              "2004-05-16          15.333454  "
            ]
          },
          "execution_count": 4,
          "metadata": {},
          "output_type": "execute_result"
        }
      ],
      "source": [
        "useful_cols = list(SCORE_KS) + [DATE_K]\n",
        "\n",
        "# masking\n",
        "masks = [pd.notna(df[k]) for k in SCORE_KS]\n",
        "has_score_mask = pd.concat(masks, axis=1).any(axis=1)\n",
        "\n",
        "post_2003_mask = df[DATE_K] >= pd.to_datetime('2004-01-01')\n",
        "\n",
        "scored_post_2003_mask = has_score_mask & post_2003_mask\n",
        "scored_post_2003_df = df.loc[scored_post_2003_mask, useful_cols]\n",
        "scored_post_2003_df.rename(  # more human readable plot legend\n",
        "    columns={\n",
        "        CRIT_SCORE_K: \"critics' score\",\n",
        "        USER_SCORE_K: \"users' score\",\n",
        "    },\n",
        "    inplace=True,\n",
        ")\n",
        "\n",
        "# dates to quarters\n",
        "dates = scored_post_2003_df[DATE_K]\n",
        "quarterly_dates = dates.dt.to_period('Q')\n",
        "quarterly_dates = quarterly_dates.dt.to_timestamp()  # Qs to dates for compatibility\n",
        "quarterly_dates = quarterly_dates + pd.Timedelta(days=45)  # plot Q1 as Feb 15 not Jan 1\n",
        "scored_post_2003_df[DATE_K] = quarterly_dates\n",
        "\n",
        "# aggregate w/ mean & std\n",
        "means = scored_post_2003_df.groupby(DATE_K).mean()\n",
        "means.columns = [f'\u03bc({c})' for c in means.columns]\n",
        "stds = scored_post_2003_df.groupby(DATE_K).std()\n",
        "stds.columns = [f'\u03c3({c})' for c in stds.columns]\n",
        "scored_post_2003_df = means.join(stds)\n",
        "\n",
        "scored_post_2003_df.head(2)"
      ]
    },
    {
      "cell_type": "code",
      "execution_count": 5,
      "id": "487c1b13-ef19-4db9-9d61-d4b7313a5e49",
      "metadata": {
        "scrolled": true
      },
      "outputs": [
        {
          "data": {
            "text/html": [
              "<div>\n",
              "<style scoped>\n",
              "    .dataframe tbody tr th:only-of-type {\n",
              "        vertical-align: middle;\n",
              "    }\n",
              "\n",
              "    .dataframe tbody tr th {\n",
              "        vertical-align: top;\n",
              "    }\n",
              "\n",
              "    .dataframe thead th {\n",
              "        text-align: right;\n",
              "    }\n",
              "</style>\n",
              "<table border=\"1\" class=\"dataframe\">\n",
              "  <thead>\n",
              "    <tr style=\"text-align: right;\">\n",
              "      <th></th>\n",
              "      <th>date</th>\n",
              "      <th>variable</th>\n",
              "      <th>value</th>\n",
              "    </tr>\n",
              "  </thead>\n",
              "  <tbody>\n",
              "    <tr>\n",
              "      <th>0</th>\n",
              "      <td>2004-02-15</td>\n",
              "      <td>\u03bc(users' score)</td>\n",
              "      <td>71.494118</td>\n",
              "    </tr>\n",
              "    <tr>\n",
              "      <th>1</th>\n",
              "      <td>2004-05-16</td>\n",
              "      <td>\u03bc(users' score)</td>\n",
              "      <td>67.666667</td>\n",
              "    </tr>\n",
              "  </tbody>\n",
              "</table>\n",
              "</div>"
            ],
            "text/plain": [
              "        date         variable      value\n",
              "0 2004-02-15  \u03bc(users' score)  71.494118\n",
              "1 2004-05-16  \u03bc(users' score)  67.666667"
            ]
          },
          "execution_count": 5,
          "metadata": {},
          "output_type": "execute_result"
        }
      ],
      "source": [
        "# reformat above for plotly symbols per line\n",
        "scored_post_2003_df[DATE_K] = scored_post_2003_df.index\n",
        "scored_post_2003_df.reset_index(drop=True, inplace=True)\n",
        "\n",
        "scored_post_2003_df = scored_post_2003_df.melt(\n",
        "    id_vars=DATE_K,\n",
        "    value_vars=scored_post_2003_df.columns[:4],\n",
        ")\n",
        "scored_post_2003_df.head(2)"
      ]
    },
    {
      "cell_type": "code",
      "execution_count": 6,
      "id": "a58cb879-e021-44f6-8873-e05e1badb761",
      "metadata": {},
      "outputs": [
        {
          "data": {
            "text/html": [
              "<iframe\n",
              "    scrolling=\"no\"\n",
              "    width=\"100%\"\n",
              "    height=\"545px\"\n",
              "    src=\"iframe_figures/figure_6.html\"\n",
              "    frameborder=\"0\"\n",
              "    allowfullscreen\n",
              "></iframe>\n"
            ]
          },
          "metadata": {},
          "output_type": "display_data"
        }
      ],
      "source": [
        "fig = px.line(\n",
        "    scored_post_2003_df,\n",
        "    color='variable',\n",
        "    symbol='variable',\n",
        "    x=DATE_K,\n",
        "    y='value',\n",
        "    # y=[f'mean_{CRIT_SCORE_K}', f'mean_{USER_SCORE_K}'],\n",
        "    # error_y=scored_post_2004_df['std_critics_score'],\n",
        "    labels={DATE_K: 'release date'},\n",
        ")\n",
        "fig.update_layout(\n",
        "    font={'size': 24},\n",
        "    legend={\n",
        "        'x': 0.01,\n",
        "        'y': 0.3,\n",
        "    },\n",
        "    legend_title=None,\n",
        ")\n",
        "fig.update_traces(\n",
        "    marker={\n",
        "        'size': 10,\n",
        "    }\n",
        ")\n",
        "fig.update_xaxes(\n",
        "    # dtick='Y',\n",
        "    range=['2004-01-02', '2023-12-31'],\n",
        ")\n",
        "fig.update_yaxes(\n",
        "    range=[1, 80],\n",
        "    title='',\n",
        ")\n",
        "fig.show()"
      ]
    }
  ],
  "metadata": {
    "kernelspec": {
      "display_name": "Python 3 (ipykernel)",
      "language": "python",
      "name": "python3"
    },
    "language_info": {
      "codemirror_mode": {
        "name": "ipython",
        "version": 3
      },
      "file_extension": ".py",
      "mimetype": "text/x-python",
      "name": "python",
      "nbconvert_exporter": "python",
      "pygments_lexer": "ipython3",
      "version": "3.11.6"
    }
  },
  "nbformat": 4,
  "nbformat_minor": 5
}
