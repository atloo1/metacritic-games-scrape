{
 "cells": [
  {
   "cell_type": "code",
   "execution_count": 1,
   "id": "1fd0ce57-ea50-407c-a57b-945a1164a71c",
   "metadata": {},
   "outputs": [],
   "source": [
    "import plotly.io as pio\n",
    "import plotly.express as px\n",
    "import pandas as pd\n",
    "from scipy.stats import kurtosis, kurtosistest, skew, skewtest\n",
    "from constants import (\n",
    "    CRIT_SCORE_K,\n",
    "    USER_SCORE_K,\n",
    ")\n",
    "from load_scrape_data import get_clean_data_df"
   ]
  },
  {
   "cell_type": "code",
   "execution_count": 2,
   "id": "99ac44b1-c52d-4990-9ffc-97816df7b06b",
   "metadata": {},
   "outputs": [],
   "source": [
    "pio.renderers.default = 'iframe_connected'"
   ]
  },
  {
   "cell_type": "code",
   "execution_count": 3,
   "id": "cfea4e73-64b6-43ae-b8d2-8a452bee4a13",
   "metadata": {},
   "outputs": [],
   "source": [
    "df = get_clean_data_df()"
   ]
  },
  {
   "cell_type": "code",
   "execution_count": 4,
   "id": "45f94897-f2d9-42da-9957-4652a9df39e0",
   "metadata": {},
   "outputs": [],
   "source": [
    "# distribution of crit-user score\n",
    "crit_scores = df[CRIT_SCORE_K]\n",
    "user_scores = df[USER_SCORE_K]\n",
    "score_deltas = crit_scores - user_scores\n",
    "not_na_delta_mask = pd.notna(score_deltas)\n",
    "score_deltas = score_deltas.loc[not_na_delta_mask]"
   ]
  },
  {
   "cell_type": "code",
   "execution_count": 5,
   "id": "b5dd8983-0afe-40d5-9666-cef6829648e0",
   "metadata": {},
   "outputs": [
    {
     "data": {
      "text/html": [
       "<iframe\n",
       "    scrolling=\"no\"\n",
       "    width=\"100%\"\n",
       "    height=\"545px\"\n",
       "    src=\"iframe_figures/figure_5.html\"\n",
       "    frameborder=\"0\"\n",
       "    allowfullscreen\n",
       "></iframe>\n"
      ]
     },
     "metadata": {},
     "output_type": "display_data"
    }
   ],
   "source": [
    "fig = px.histogram(\n",
    "    score_deltas,\n",
    "    labels={'value': f\"critics' score - users' score\"},\n",
    ")\n",
    "fig.update_layout(\n",
    "#     annotations=[    # spoofed label inside y axis looks bad\n",
    "#         {\n",
    "#             'x': 0.03,\n",
    "#             'y': 0.45,\n",
    "#             'text': 'frequency',\n",
    "#             'textangle': -90,\n",
    "#             'xref': 'paper',\n",
    "#             'yref': 'paper',\n",
    "#         }\n",
    "#     ],\n",
    "    font={'size': 27},\n",
    "    showlegend=False,\n",
    ")\n",
    "range = 85\n",
    "fig.update_xaxes(\n",
    "    dtick=15,\n",
    "    range=[-range, range],\n",
    "    showgrid=True\n",
    ")\n",
    "fig.update_yaxes(\n",
    "    ticklabelposition='inside',\n",
    "    title='frequency',\n",
    ")"
   ]
  },
  {
   "cell_type": "code",
   "execution_count": 6,
   "id": "8715d697-9606-46a7-8f0a-b3f4fb385e70",
   "metadata": {},
   "outputs": [
    {
     "data": {
      "text/plain": [
       "2.6544152321855738e-151"
      ]
     },
     "execution_count": 6,
     "metadata": {},
     "output_type": "execute_result"
    }
   ],
   "source": [
    "# reject null hypo that this was sampled from normally distribution\n",
    "score_delta_vs = list(score_deltas.values)\n",
    "kurtosistest(score_delta_vs).pvalue"
   ]
  },
  {
   "cell_type": "code",
   "execution_count": 7,
   "id": "dceda85a-90ea-4928-8c23-5b73b46b2b64",
   "metadata": {},
   "outputs": [
    {
     "data": {
      "text/plain": [
       "4.7561274767879394e-104"
      ]
     },
     "execution_count": 7,
     "metadata": {},
     "output_type": "execute_result"
    }
   ],
   "source": [
    "# reject null hypo that this was sampled from normally distribution\n",
    "skewtest(score_delta_vs).pvalue"
   ]
  },
  {
   "cell_type": "code",
   "execution_count": 8,
   "id": "1388627c-d7d1-4984-a2c2-64c3d8a176d0",
   "metadata": {},
   "outputs": [
    {
     "data": {
      "text/plain": [
       "2.340319554913627"
      ]
     },
     "execution_count": 8,
     "metadata": {},
     "output_type": "execute_result"
    }
   ],
   "source": [
    "kurtosis(score_delta_vs)"
   ]
  },
  {
   "cell_type": "code",
   "execution_count": 9,
   "id": "fe74abc9-3632-444d-a305-500f2b44e874",
   "metadata": {},
   "outputs": [
    {
     "data": {
      "text/plain": [
       "0.5024387077955701"
      ]
     },
     "execution_count": 9,
     "metadata": {},
     "output_type": "execute_result"
    }
   ],
   "source": [
    "skew(score_delta_vs)"
   ]
  },
  {
   "cell_type": "markdown",
   "id": "4d30c21d-0ef9-4ae2-b8cd-bd2b9efda3e3",
   "metadata": {},
   "source": [
    "#### right outliers:"
   ]
  },
  {
   "cell_type": "code",
   "execution_count": 10,
   "id": "e28cbaec-9454-4df6-9f25-7f0f1eab7a67",
   "metadata": {},
   "outputs": [
    {
     "data": {
      "text/plain": [
       "https://www.metacritic.com/game/out-of-the-park-baseball-2007/                        82\n",
       "https://www.metacritic.com/game/bilkins-folly/                                        75\n",
       "https://www.metacritic.com/game/world-of-warcraft-classic-burning-crusade-classic/    71\n",
       "https://www.metacritic.com/game/tom-clancys-the-division-2-warlords-of-new-york/      70\n",
       "https://www.metacritic.com/game/zen-pinball-2-ant-man-pinball/                        69\n",
       "https://www.metacritic.com/game/pinball-fx/                                           69\n",
       "https://www.metacritic.com/game/espn-nfl-football/                                    68\n",
       "https://www.metacritic.com/game/espn-nhl-hockey/                                      68\n",
       "https://www.metacritic.com/game/world-series-baseball-2k3/                            66\n",
       "https://www.metacritic.com/game/fifa-20/                                              65\n",
       "https://www.metacritic.com/game/overwatch-2/                                          65\n",
       "https://www.metacritic.com/game/diablo-iv/                                            64\n",
       "https://www.metacritic.com/game/super-phantom-cat/                                    64\n",
       "https://www.metacritic.com/game/gran-turismo-7/                                       64\n",
       "https://www.metacritic.com/game/lostwinds/                                            63\n",
       "dtype: object"
      ]
     },
     "execution_count": 10,
     "metadata": {},
     "output_type": "execute_result"
    }
   ],
   "source": [
    "score_deltas.sort_values(ascending=False).iloc[:15, ]"
   ]
  },
  {
   "cell_type": "markdown",
   "id": "509b06ae-8ce0-4361-8f42-0788b9cc9277",
   "metadata": {},
   "source": [
    "#### Russian meddling in a severely (15th most) negatively brigaded game:"
   ]
  },
  {
   "cell_type": "code",
   "execution_count": 11,
   "id": "32052d0e-c4dd-4098-aad5-8ba7edc5c237",
   "metadata": {},
   "outputs": [
    {
     "data": {
      "text/plain": [
       "https://www.metacritic.com/game/company-of-heroes-2/    58\n",
       "dtype: object"
      ]
     },
     "execution_count": 11,
     "metadata": {},
     "output_type": "execute_result"
    }
   ],
   "source": [
    "score_deltas.sort_values(ascending=False).iloc[28:29, ]"
   ]
  },
  {
   "cell_type": "code",
   "execution_count": 12,
   "id": "f783272a-5568-4d33-92ed-11933957004b",
   "metadata": {},
   "outputs": [
    {
     "data": {
      "text/plain": [
       "58    1\n",
       "Name: count, dtype: int64"
      ]
     },
     "execution_count": 12,
     "metadata": {},
     "output_type": "execute_result"
    }
   ],
   "source": [
    "score_deltas.value_counts().sort_index(ascending=False).iloc[14: 15]"
   ]
  },
  {
   "cell_type": "markdown",
   "id": "be816d4f-5c51-4013-becb-d8e8915bf482",
   "metadata": {},
   "source": [
    "#### left outliers:"
   ]
  },
  {
   "cell_type": "code",
   "execution_count": 13,
   "id": "f1e49c36-a4eb-4ab8-b431-aa212249d2c8",
   "metadata": {},
   "outputs": [
    {
     "data": {
      "text/plain": [
       "https://www.metacritic.com/game/navy-seals-weapons-of-mass-destruction/     -64\n",
       "https://www.metacritic.com/game/anima-ark-of-sinners/                       -61\n",
       "https://www.metacritic.com/game/ultimate-demolition-derby/                  -56\n",
       "https://www.metacritic.com/game/gods-and-generals/                          -55\n",
       "https://www.metacritic.com/game/tweety-and-the-magic-gems/                  -55\n",
       "https://www.metacritic.com/game/land-of-the-dead-road-to-fiddlers-green/    -48\n",
       "https://www.metacritic.com/game/dreamlords/                                 -48\n",
       "https://www.metacritic.com/game/biker-mice-from-mars/                       -48\n",
       "https://www.metacritic.com/game/shrek-extra-large/                          -46\n",
       "https://www.metacritic.com/game/looney-tunes-acme-arsenal/                  -46\n",
       "https://www.metacritic.com/game/left-alive/                                 -45\n",
       "https://www.metacritic.com/game/predator-concrete-jungle/                   -45\n",
       "https://www.metacritic.com/game/ultimate-duck-hunting/                      -45\n",
       "https://www.metacritic.com/game/the-apprentice/                             -45\n",
       "https://www.metacritic.com/game/making-history-ii-the-war-of-the-world/     -44\n",
       "dtype: object"
      ]
     },
     "execution_count": 13,
     "metadata": {},
     "output_type": "execute_result"
    }
   ],
   "source": [
    "score_deltas.sort_values().iloc[:15, ]"
   ]
  },
  {
   "cell_type": "markdown",
   "id": "7d5e9884-3f81-45ac-848c-425b969bd129",
   "metadata": {},
   "source": [
    "#### \"so bad it's good\" in a severely (18th most) positively brigaded game:"
   ]
  },
  {
   "cell_type": "code",
   "execution_count": 14,
   "id": "434bdb15-dcb9-4812-8124-d88d3ad5e696",
   "metadata": {},
   "outputs": [
    {
     "data": {
      "text/plain": [
       "https://www.metacritic.com/game/big-rigs-over-the-road-racing/    -34\n",
       "dtype: object"
      ]
     },
     "execution_count": 14,
     "metadata": {},
     "output_type": "execute_result"
    }
   ],
   "source": [
    "score_deltas.sort_values().iloc[65:66]"
   ]
  },
  {
   "cell_type": "code",
   "execution_count": 15,
   "id": "4cc32427-fc2f-4bc1-93e5-f344df17e89b",
   "metadata": {},
   "outputs": [
    {
     "data": {
      "text/plain": [
       "-34    10\n",
       "Name: count, dtype: int64"
      ]
     },
     "execution_count": 15,
     "metadata": {},
     "output_type": "execute_result"
    }
   ],
   "source": [
    "score_deltas.value_counts().sort_index().iloc[17:18, ]"
   ]
  }
 ],
 "metadata": {
  "kernelspec": {
   "display_name": "Python 3 (ipykernel)",
   "language": "python",
   "name": "python3"
  },
  "language_info": {
   "codemirror_mode": {
    "name": "ipython",
    "version": 3
   },
   "file_extension": ".py",
   "mimetype": "text/x-python",
   "name": "python",
   "nbconvert_exporter": "python",
   "pygments_lexer": "ipython3",
   "version": "3.11.6"
  }
 },
 "nbformat": 4,
 "nbformat_minor": 5
}
