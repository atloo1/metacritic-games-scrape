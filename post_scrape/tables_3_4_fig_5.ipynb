{
 "cells": [
  {
   "cell_type": "code",
   "execution_count": 1,
   "id": "f04d44c1-eede-47b3-b29f-51c869ed15d2",
   "metadata": {},
   "outputs": [],
   "source": [
    "%%bash\n",
    "# download once\n",
    "# python -m spacy download en_core_web_lg"
   ]
  },
  {
   "cell_type": "code",
   "execution_count": 2,
   "id": "1bf6ca47-8d0d-4234-9c5b-28a53c66db0e",
   "metadata": {},
   "outputs": [],
   "source": [
    "import numpy as np\n",
    "import pandas as pd\n",
    "import plotly.graph_objects as go\n",
    "from sklearn.decomposition import (\n",
    "    LatentDirichletAllocation, \n",
    "    NMF,\n",
    ")\n",
    "from sklearn.feature_extraction.text import (\n",
    "    CountVectorizer,\n",
    "    TfidfVectorizer,\n",
    ")\n",
    "from sklearn.linear_model import LogisticRegression\n",
    "from sklearn.metrics import (\n",
    "    cohen_kappa_score,\n",
    "    ConfusionMatrixDisplay,\n",
    "    f1_score,\n",
    "    matthews_corrcoef,\n",
    "    roc_auc_score,\n",
    ")\n",
    "from sklearn.model_selection import (\n",
    "    StratifiedKFold, \n",
    "    train_test_split,\n",
    ")\n",
    "from load_scrape_data import get_clean_data_df\n",
    "from constants import (\n",
    "    DESC_K,   \n",
    "    ESRB_K,\n",
    "    TITLE_K,\n",
    ")\n",
    "from nlp_utils import (\n",
    "    evaluate_model,    \n",
    "    nlp,\n",
    "    normalize_text,\n",
    "    NORMED_DESC_K,\n",
    "    topic_model_breakdown,\n",
    "    topic_model_breakdown_per_esrb,\n",
    ")"
   ]
  },
  {
   "cell_type": "code",
   "execution_count": 3,
   "id": "46c20c33-33d9-41e5-8c58-d08a199d0e5a",
   "metadata": {},
   "outputs": [],
   "source": [
    "df = get_clean_data_df()"
   ]
  },
  {
   "cell_type": "code",
   "execution_count": 4,
   "id": "8c849e3b-99af-49ca-ba8a-5df8760163b0",
   "metadata": {},
   "outputs": [
    {
     "data": {
      "text/plain": [
       "esrb\n",
       "6+     10971\n",
       "13+     7078\n",
       "17+     3423\n",
       "10+     3284\n",
       "?         59\n",
       "3+        56\n",
       "18+       45\n",
       "Name: count, dtype: int64"
      ]
     },
     "execution_count": 4,
     "metadata": {},
     "output_type": "execute_result"
    }
   ],
   "source": [
    "# filter for has description & ESRB\n",
    "has_desc_mask = pd.notna(df[DESC_K])\n",
    "has_esrb_mask = pd.notna(df[ESRB_K])\n",
    "has_desc_esrb_mask = has_desc_mask & has_esrb_mask\n",
    "df.loc[has_desc_esrb_mask, ESRB_K].value_counts()"
   ]
  },
  {
   "cell_type": "code",
   "execution_count": 5,
   "id": "4e8a672b-f048-4589-8950-70e5bd9fab4a",
   "metadata": {},
   "outputs": [
    {
     "data": {
      "text/plain": [
       "esrb\n",
       "6+     10971\n",
       "13+     7078\n",
       "17+     3423\n",
       "10+     3284\n",
       "Name: count, dtype: int64"
      ]
     },
     "execution_count": 5,
     "metadata": {},
     "output_type": "execute_result"
    }
   ],
   "source": [
    "# drop low count ESRBs\n",
    "is_low_count_esrb = df[ESRB_K].isin({'?', '3+', '18+'})\n",
    "data_mask = has_desc_esrb_mask & ~is_low_count_esrb\n",
    "data_df = df.loc[data_mask]\n",
    "data_df[ESRB_K].value_counts()"
   ]
  },
  {
   "cell_type": "code",
   "execution_count": 6,
   "id": "ec90590d-6d45-4941-9335-c7fc7ef2b469",
   "metadata": {},
   "outputs": [
    {
     "name": "stderr",
     "output_type": "stream",
     "text": [
      "/tmp/ipykernel_60389/52290168.py:3: SettingWithCopyWarning: \n",
      "A value is trying to be set on a copy of a slice from a DataFrame.\n",
      "Try using .loc[row_indexer,col_indexer] = value instead\n",
      "\n",
      "See the caveats in the documentation: https://pandas.pydata.org/pandas-docs/stable/user_guide/indexing.html#returning-a-view-versus-a-copy\n",
      "  data_df[NORMED_DESC_K] = normed_descs  # TODO SettingWithCopyWarning\n"
     ]
    }
   ],
   "source": [
    "# normalize descriptions\n",
    "normed_descs = data_df[DESC_K].apply(normalize_text)\n",
    "data_df[NORMED_DESC_K] = normed_descs  # TODO SettingWithCopyWarning"
   ]
  },
  {
   "cell_type": "markdown",
   "id": "af9cbbcd-615f-4c54-8ad1-0732a3865651",
   "metadata": {},
   "source": [
    "#### topic modeling"
   ]
  },
  {
   "cell_type": "code",
   "execution_count": 7,
   "id": "ce03649d-1c62-4d1f-8304-c8c4085ee0f8",
   "metadata": {},
   "outputs": [
    {
     "name": "stderr",
     "output_type": "stream",
     "text": [
      "/home/aren/.cache/pypoetry/virtualenvs/ar15-scrape-Pe3KTmo1-py3.11/lib/python3.11/site-packages/sklearn/decomposition/_nmf.py:1710: ConvergenceWarning: Maximum number of iterations 200 reached. Increase it to improve convergence.\n",
      "  warnings.warn(\n",
      "/home/aren/.cache/pypoetry/virtualenvs/ar15-scrape-Pe3KTmo1-py3.11/lib/python3.11/site-packages/sklearn/decomposition/_nmf.py:1710: ConvergenceWarning: Maximum number of iterations 200 reached. Increase it to improve convergence.\n",
      "  warnings.warn(\n"
     ]
    }
   ],
   "source": [
    "corpus=data_df[NORMED_DESC_K]\n",
    "docs=data_df[TITLE_K]\n",
    "min_df = 10  # min doc freq; words in few docs are bad discriminators\n",
    "n_grams = (1,3)  # uni thru tri-grams\n",
    "num_topics = 15\n",
    "top_n = 15  # words | docs per topic \n",
    "\n",
    "# vectorizers = docs of words -> matrix\n",
    "doc_term_vectorizer_tf = CountVectorizer(\n",
    "    min_df=min_df,\n",
    "    ngram_range=n_grams,\n",
    ")\n",
    "doc_term_vectorizer_tfidf = TfidfVectorizer(\n",
    "    min_df=min_df,  \n",
    "    ngram_range=n_grams,\n",
    ")\n",
    "\n",
    "# models\n",
    "nmf_model = NMF(\n",
    "    init='nndsvda',   # default for small num_topics, but explicit is best\n",
    "    n_components=num_topics,\n",
    "    random_state=1,\n",
    ")\n",
    "lda_model = LatentDirichletAllocation(\n",
    "    n_components=num_topics,\n",
    "    learning_method='online',\n",
    "    random_state=1,\n",
    ")\n",
    "\n",
    "# fit models on matrices\n",
    "nmf_topics_df = topic_model_breakdown(corpus, doc_term_vectorizer_tfidf, docs, nmf_model, top_n)\n",
    "nmf_esrb_grouped_topics_df = topic_model_breakdown_per_esrb(data_df, doc_term_vectorizer_tfidf, nmf_model, top_n)\n",
    "\n",
    "lda_topics_df = topic_model_breakdown(corpus, doc_term_vectorizer_tf, docs, lda_model, top_n)\n",
    "lda_esrb_grouped_topics_df = topic_model_breakdown_per_esrb(data_df, doc_term_vectorizer_tf, lda_model, top_n)"
   ]
  },
  {
   "cell_type": "code",
   "execution_count": 8,
   "id": "106bb91c-2cc9-49ce-91d4-b6f1a0aaa5f0",
   "metadata": {},
   "outputs": [],
   "source": [
    "# nmf_esrb_grouped_topics_df.to_csv('nmf_esrb_grouped_topics.tsv', sep='\\t')\n",
    "# nmf_topics_df.to_csv('nmf_topics.tsv', sep='\\t')\n",
    "# lda_esrb_grouped_topics_df.to_csv('lda_esrb_grouped_topics.tsv', sep='\\t')\n",
    "# lda_topics_df.to_csv('lda_topics.tsv', sep='\\t')"
   ]
  },
  {
   "cell_type": "markdown",
   "id": "2e7c455d-8ec2-468b-baa2-1b9d31deb32f",
   "metadata": {},
   "source": [
    "#### cross validation"
   ]
  },
  {
   "cell_type": "code",
   "execution_count": 9,
   "id": "0b306293-8b5f-4341-917c-3b35e3394e4e",
   "metadata": {},
   "outputs": [],
   "source": [
    "# stratified test set withheld\n",
    "# note: using train-validation-test syntax vs sklearn's train-test-validation\n",
    "\n",
    "corpus = data_df[NORMED_DESC_K]\n",
    "n_splits = 10\n",
    "xs = doc_term_vectorizer_tfidf.fit_transform(corpus)\n",
    "ys = data_df[ESRB_K]\n",
    "\n",
    "train_val_xs, test_xs, train_val_ys, test_ys = train_test_split(\n",
    "    xs,\n",
    "    ys,\n",
    "    random_state=1,\n",
    "    stratify=ys,\n",
    "    test_size=0.1,\n",
    ")"
   ]
  },
  {
   "cell_type": "code",
   "execution_count": 10,
   "id": "7f2e18bb-d471-4e79-a3e5-eaafd9d9ed97",
   "metadata": {},
   "outputs": [
    {
     "name": "stderr",
     "output_type": "stream",
     "text": [
      "10it [00:49,  4.92s/it]\n"
     ]
    },
    {
     "data": {
      "text/plain": [
       "<sklearn.metrics._plot.confusion_matrix.ConfusionMatrixDisplay at 0x7f8dcfb3e910>"
      ]
     },
     "execution_count": 10,
     "metadata": {},
     "output_type": "execute_result"
    },
    {
     "data": {
      "image/png": "[encoded data removed]",
      "text/plain": [
       "<Figure size 640x480 with 2 Axes>"
      ]
     },
     "metadata": {},
     "output_type": "display_data"
    }
   ],
   "source": [
    "# train-validate tuning\n",
    "labels = ['6+', '10+', '13+', '17+']  # sorted ESRBs\n",
    "\n",
    "skf = StratifiedKFold(\n",
    "    n_splits=n_splits, \n",
    "    random_state=1,\n",
    "    shuffle=True,\n",
    ")\n",
    "train_val_classifier = LogisticRegression(\n",
    "    class_weight='balanced',\n",
    "    max_iter=int(1E3),\n",
    "    random_state=1,\n",
    ")\n",
    "# k fold fit & predict w/ train-validation set\n",
    "train_val_truths, train_val_preds = evaluate_model(\n",
    "    skf,\n",
    "    train_val_classifier,\n",
    "    train_val_xs,\n",
    "    train_val_ys,\n",
    ")\n",
    "# micro averaged confusion matrix\n",
    "ConfusionMatrixDisplay.from_predictions(\n",
    "    train_val_truths,\n",
    "    train_val_preds,\n",
    "    labels=labels,\n",
    "    # labels=int_labels,\n",
    "    normalize='true',\n",
    ")"
   ]
  },
  {
   "cell_type": "code",
   "execution_count": 11,
   "id": "98bc0ef2-546e-4015-b05d-f3b6ec52e418",
   "metadata": {},
   "outputs": [
    {
     "data": {
      "text/plain": [
       "esrb\n",
       "6+     0.443165\n",
       "13+    0.285910\n",
       "17+    0.138270\n",
       "10+    0.132655\n",
       "Name: proportion, dtype: float64"
      ]
     },
     "execution_count": 11,
     "metadata": {},
     "output_type": "execute_result"
    }
   ],
   "source": [
    "# class proportions for contrast\n",
    "data_df[ESRB_K].value_counts(normalize=True)"
   ]
  },
  {
   "cell_type": "markdown",
   "id": "d687e5dc-3678-4526-b27a-61533464b598",
   "metadata": {},
   "source": [
    "#### test set performance"
   ]
  },
  {
   "cell_type": "code",
   "execution_count": 12,
   "id": "13f8814e-5305-4d92-8119-364614062e3e",
   "metadata": {},
   "outputs": [
    {
     "data": {
      "text/plain": [
       "<sklearn.metrics._plot.confusion_matrix.ConfusionMatrixDisplay at 0x7f8dc8219610>"
      ]
     },
     "execution_count": 12,
     "metadata": {},
     "output_type": "execute_result"
    },
    {
     "data": {
      "image/png": "[encoded data removed]",
      "text/plain": [
       "<Figure size 640x480 with 2 Axes>"
      ]
     },
     "metadata": {},
     "output_type": "display_data"
    }
   ],
   "source": [
    "test_classifier = LogisticRegression(\n",
    "    class_weight='balanced',\n",
    "    max_iter=1000,\n",
    "    random_state=1,\n",
    ")\n",
    "test_classifier.fit(train_val_xs, train_val_ys)\n",
    "test_preds = test_classifier.predict(test_xs)\n",
    "ConfusionMatrixDisplay.from_predictions(\n",
    "    test_ys,\n",
    "    test_preds,\n",
    "    labels=labels,\n",
    "    normalize='true',\n",
    ")"
   ]
  },
  {
   "cell_type": "code",
   "execution_count": 13,
   "id": "f726b37e-98cb-4e32-92de-7a0b4c53e555",
   "metadata": {},
   "outputs": [
    {
     "name": "stdout",
     "output_type": "stream",
     "text": [
      "f1: 0.6436400941044158\n",
      "roc_auc :0.4553295353491597\n",
      "cohen_kappa: 0.4819049453784048\n",
      "matthews: 0.4835907124156217\n"
     ]
    }
   ],
   "source": [
    "# scalar metrics of test set performance\n",
    "f1 = f1_score(\n",
    "    test_ys,\n",
    "    test_preds,\n",
    "    average='weighted',\n",
    ")\n",
    "\n",
    "map = {'6+': 0, '10+': 1, '13+': 2, '17+': 3,}\n",
    "proba_preds = test_classifier.predict_proba(test_xs)\n",
    "roc_auc = roc_auc_score(\n",
    "    test_ys.map(map),  # labels must be ints\n",
    "    proba_preds,\n",
    "    multi_class='ovr',  # one vs rest\n",
    ")\n",
    "\n",
    "cohen_kappa = cohen_kappa_score(test_ys, test_preds)\n",
    "\n",
    "matthews = matthews_corrcoef(test_ys, test_preds)\n",
    "\n",
    "print(f'f1: {f1}')\n",
    "print(f'roc_auc :{roc_auc}')\n",
    "print(f'cohen_kappa: {cohen_kappa}')\n",
    "print(f'matthews: {matthews}')"
   ]
  },
  {
   "cell_type": "markdown",
   "id": "12e66931-37cd-4001-ba39-4bfb26727360",
   "metadata": {},
   "source": [
    "#### What about word2vec instead of TF-IDF?"
   ]
  },
  {
   "cell_type": "code",
   "execution_count": 14,
   "id": "69559e14-8a28-4e6d-92ff-1b2a77020c1a",
   "metadata": {},
   "outputs": [],
   "source": [
    "doc_vecs = data_df[NORMED_DESC_K].apply(lambda x: nlp(x).vector)\n",
    "xs = np.array(list(doc_vecs))\n",
    "# normed_xs = np.interp(xs, (xs.min(), xs.max()), (-1, 1))  # normalize from -1 to 1"
   ]
  },
  {
   "cell_type": "code",
   "execution_count": 15,
   "id": "6631bc8b-cb78-4272-aa16-1978c4891447",
   "metadata": {},
   "outputs": [],
   "source": [
    "train_val_xs, test_xs, train_val_ys, test_ys = train_test_split(\n",
    "    xs,\n",
    "    # normed_xs,\n",
    "    ys,\n",
    "    random_state=1,\n",
    "    stratify=ys,\n",
    "    test_size=0.1,\n",
    ")"
   ]
  },
  {
   "cell_type": "code",
   "execution_count": 16,
   "id": "1cbcbbbd-d1b9-4b85-ada7-6d5d6c69fa41",
   "metadata": {},
   "outputs": [
    {
     "name": "stderr",
     "output_type": "stream",
     "text": [
      "10it [02:55, 17.57s/it]\n"
     ]
    },
    {
     "data": {
      "text/plain": [
       "<sklearn.metrics._plot.confusion_matrix.ConfusionMatrixDisplay at 0x7f8dc85c9010>"
      ]
     },
     "execution_count": 16,
     "metadata": {},
     "output_type": "execute_result"
    },
    {
     "data": {
      "image/png": "[encoded data removed]",
      "text/plain": [
       "<Figure size 640x480 with 2 Axes>"
      ]
     },
     "metadata": {},
     "output_type": "display_data"
    }
   ],
   "source": [
    "train_val_classifier = LogisticRegression(\n",
    "    class_weight='balanced',\n",
    "    max_iter=int(1E4),\n",
    "    random_state=1,\n",
    ")\n",
    "train_val_truths, train_val_preds = evaluate_model(\n",
    "    skf,\n",
    "    train_val_classifier,\n",
    "    train_val_xs,\n",
    "    train_val_ys,\n",
    ")\n",
    "\n",
    "# micro averaged confusion matrix\n",
    "ConfusionMatrixDisplay.from_predictions(\n",
    "    train_val_truths,\n",
    "    train_val_preds,\n",
    "    labels=labels,\n",
    "    normalize='true',\n",
    ")"
   ]
  },
  {
   "cell_type": "markdown",
   "id": "6454c2a4-dc69-460e-8bbe-807780b45857",
   "metadata": {},
   "source": [
    "#### less successful model graveyard"
   ]
  },
  {
   "cell_type": "code",
   "execution_count": 17,
   "id": "273f1903-5e3c-462a-8d68-439dee2c2373",
   "metadata": {},
   "outputs": [],
   "source": [
    "# https://scikit-learn.org/stable/modules/classes.html#module-sklearn.ensemble\n",
    "# https://scikit-learn.org/stable/modules/classes.html#module-sklearn.neural_network\n",
    "\n",
    "# from sklearn.tree import DecisionTreeClassifier\n",
    "# classifier = DecisionTreeClassifier(\n",
    "#     class_weight='balanced',\n",
    "#     # min_samples_split = 10,\n",
    "#     random_state=1,\n",
    "# )\n",
    "\n",
    "# from sklearn.svm import LinearSVC\n",
    "# classifier = LinearSVC(\n",
    "#     class_weight='balanced',\n",
    "#     dual='auto',\n",
    "# )\n",
    "\n",
    "# from sklearn.linear_model import RidgeClassifier\n",
    "# RidgeClassifier(\n",
    "#     class_weight='balanced',\n",
    "#     random_state=1,\n",
    "# )\n",
    "\n",
    "# from sklearn.naive_bayes import ComplementNB\n",
    "# classifier = ComplementNB()\n",
    "\n",
    "# from sklearn.neighbors import KNeighborsClassifier\n",
    "# classifier = KNeighborsClassifier(\n",
    "#     n_neighbors=5,\n",
    "#     weights='distance',\n",
    "# )\n",
    "\n",
    "# from sklearn.tree import DecisionTreeClassifier\n",
    "# classifier = DecisionTreeClassifier(\n",
    "#     class_weight='balanced',\n",
    "#     # min_samples_split = 10,\n",
    "#     random_state=1,\n",
    "# )"
   ]
  }
 ],
 "metadata": {
  "kernelspec": {
   "display_name": "Python 3 (ipykernel)",
   "language": "python",
   "name": "python3"
  },
  "language_info": {
   "codemirror_mode": {
    "name": "ipython",
    "version": 3
   },
   "file_extension": ".py",
   "mimetype": "text/x-python",
   "name": "python",
   "nbconvert_exporter": "python",
   "pygments_lexer": "ipython3",
   "version": "3.11.6"
  }
 },
 "nbformat": 4,
 "nbformat_minor": 5
}
