{
 "cells": [
  {
   "cell_type": "code",
   "execution_count": 1,
   "id": "a1255351-d34d-405f-8157-401dc61c83b8",
   "metadata": {},
   "outputs": [],
   "source": [
    "import plotly.io as pio\n",
    "import plotly.express as px\n",
    "import pandas as pd\n",
    "from constants import (\n",
    "    CRIT_KS,\n",
    "    DATE_K,\n",
    "    PLATS_D,\n",
    "    URL_K,\n",
    "    USER_KS,\n",
    ")\n",
    "from load_scrape_data import get_clean_data_df"
   ]
  },
  {
   "cell_type": "code",
   "execution_count": 2,
   "id": "8f5dd94e-57db-44cf-9282-45a11ccdf462",
   "metadata": {},
   "outputs": [],
   "source": [
    "pio.renderers.default = 'iframe_connected'"
   ]
  },
  {
   "cell_type": "code",
   "execution_count": 3,
   "id": "0c764749-f83d-48dc-bad6-3a9a5272cbd2",
   "metadata": {},
   "outputs": [],
   "source": [
    "df = get_clean_data_df()"
   ]
  },
  {
   "cell_type": "code",
   "execution_count": 4,
   "id": "05448a12-b7fa-4960-ac1c-11d8dad6d2e9",
   "metadata": {},
   "outputs": [
    {
     "data": {
      "text/plain": [
       "https://www.metacritic.com/game/operation-inner-space/          1994-12-31\n",
       "https://www.metacritic.com/game/magic-and-mayhem-for-heretic/   1995-01-01\n",
       "Name: date, dtype: datetime64[ns]"
      ]
     },
     "execution_count": 4,
     "metadata": {},
     "output_type": "execute_result"
    }
   ],
   "source": [
    "# 269 games predate 1995\n",
    "df.sort_values(DATE_K, inplace=True)\n",
    "i = 268\n",
    "df.iloc[i: i+2][DATE_K]"
   ]
  },
  {
   "cell_type": "code",
   "execution_count": 5,
   "id": "bef379c2-1378-4ffa-a61c-0a042b7f5946",
   "metadata": {},
   "outputs": [
    {
     "name": "stdout",
     "output_type": "stream",
     "text": [
      "22 unique platforms: ['3DS', 'DS', 'Dreamcast', 'Game Boy Advance', 'GameCube', 'Nintendo 64', 'Nintendo Switch', 'PC', 'PSP', 'PlayStation', 'PlayStation 2', 'PlayStation 3', 'PlayStation 4', 'PlayStation 5', 'PlayStation Vita', 'Wii', 'Wii U', 'Xbox', 'Xbox 360', 'Xbox One', 'Xbox Series X', 'iOS (iPhone/iPad)']\n"
     ]
    }
   ],
   "source": [
    "plats = PLATS_D.keys()\n",
    "print(f'{len(plats)} unique platforms: {sorted(plats)}')"
   ]
  },
  {
   "cell_type": "code",
   "execution_count": 6,
   "id": "c440858b-7dc7-4f02-87ae-3dcae0a8b2bb",
   "metadata": {},
   "outputs": [
    {
     "data": {
      "text/html": [
       "<div>\n",
       "<style scoped>\n",
       "    .dataframe tbody tr th:only-of-type {\n",
       "        vertical-align: middle;\n",
       "    }\n",
       "\n",
       "    .dataframe tbody tr th {\n",
       "        vertical-align: top;\n",
       "    }\n",
       "\n",
       "    .dataframe thead th {\n",
       "        text-align: right;\n",
       "    }\n",
       "</style>\n",
       "<table border=\"1\" class=\"dataframe\">\n",
       "  <thead>\n",
       "    <tr style=\"text-align: right;\">\n",
       "      <th></th>\n",
       "      <th>fraction not reviewed</th>\n",
       "      <th>fraction reviewed</th>\n",
       "      <th>cumulative releases (normalized)</th>\n",
       "    </tr>\n",
       "    <tr>\n",
       "      <th>date</th>\n",
       "      <th></th>\n",
       "      <th></th>\n",
       "      <th></th>\n",
       "    </tr>\n",
       "  </thead>\n",
       "  <tbody>\n",
       "    <tr>\n",
       "      <th>1981.0</th>\n",
       "      <td>1.0</td>\n",
       "      <td>0.0</td>\n",
       "      <td>0.000008</td>\n",
       "    </tr>\n",
       "    <tr>\n",
       "      <th>1982.0</th>\n",
       "      <td>1.0</td>\n",
       "      <td>0.0</td>\n",
       "      <td>0.000033</td>\n",
       "    </tr>\n",
       "  </tbody>\n",
       "</table>\n",
       "</div>"
      ],
      "text/plain": [
       "        fraction not reviewed  fraction reviewed  \\\n",
       "date                                               \n",
       "1981.0                    1.0                0.0   \n",
       "1982.0                    1.0                0.0   \n",
       "\n",
       "        cumulative releases (normalized)  \n",
       "date                                      \n",
       "1981.0                          0.000008  \n",
       "1982.0                          0.000033  "
      ]
     },
     "execution_count": 6,
     "metadata": {},
     "output_type": "execute_result"
    }
   ],
   "source": [
    "# fraction of games w/ criticism vs date\n",
    "CRITICIZED_K = 'has_criticsm'\n",
    "\n",
    "# criticism mask \n",
    "score_ks = CRIT_KS | USER_KS\n",
    "masks = [\n",
    "    pd.notna(df[k])\n",
    "    for k in score_ks\n",
    "]\n",
    "has_criticism_mask = pd.concat(masks, axis=1).any(axis=1)\n",
    "df[CRITICIZED_K] = has_criticism_mask\n",
    "\n",
    "# dates as years\n",
    "dates = df[DATE_K]\n",
    "year_only_dates = pd.to_datetime(dates).dt.year\n",
    "df[DATE_K] = year_only_dates\n",
    "\n",
    "# preserve the index in a col\n",
    "df[URL_K] = df.index\n",
    "df.reset_index(inplace=True)\n",
    "\n",
    "# (date, critcism) value counts\n",
    "counts_df = df.groupby([DATE_K, CRITICIZED_K]).count()\n",
    "date_criticism_counts = counts_df[URL_K]\n",
    "\n",
    "# (date, critcism) value counts as fractions\n",
    "counts_df = df.groupby([DATE_K, CRITICIZED_K]).size().unstack(fill_value=0)\n",
    "fractions_df = counts_df.div(counts_df.sum(axis=1), axis=0).reset_index()\n",
    "counts_df.div(counts_df.sum(axis=1), axis=0).reset_index()\n",
    "fractions_df.columns = [DATE_K, 'fraction not reviewed', 'fraction reviewed']\n",
    "fractions_df.set_index(DATE_K, inplace=True)\n",
    "\n",
    "# releases per year cumulative sum as fraction\n",
    "counts_df = df.groupby(DATE_K).count()\n",
    "date_counts = counts_df[URL_K]\n",
    "releases_cum_sum = date_counts.cumsum()\n",
    "releases_cum_frac = releases_cum_sum / releases_cum_sum.max()\n",
    "releases_cum_frac\n",
    "fractions_df['cumulative releases (normalized)'] = releases_cum_frac.values\n",
    "fractions_df.head(2)"
   ]
  },
  {
   "cell_type": "code",
   "execution_count": 7,
   "id": "44a84ce6-0371-4a37-a655-8ec869241de7",
   "metadata": {},
   "outputs": [
    {
     "data": {
      "text/html": [
       "<div>\n",
       "<style scoped>\n",
       "    .dataframe tbody tr th:only-of-type {\n",
       "        vertical-align: middle;\n",
       "    }\n",
       "\n",
       "    .dataframe tbody tr th {\n",
       "        vertical-align: top;\n",
       "    }\n",
       "\n",
       "    .dataframe thead th {\n",
       "        text-align: right;\n",
       "    }\n",
       "</style>\n",
       "<table border=\"1\" class=\"dataframe\">\n",
       "  <thead>\n",
       "    <tr style=\"text-align: right;\">\n",
       "      <th></th>\n",
       "      <th>date</th>\n",
       "      <th>variable</th>\n",
       "      <th>value</th>\n",
       "    </tr>\n",
       "  </thead>\n",
       "  <tbody>\n",
       "    <tr>\n",
       "      <th>0</th>\n",
       "      <td>1981.0</td>\n",
       "      <td>fraction not reviewed</td>\n",
       "      <td>1.0</td>\n",
       "    </tr>\n",
       "    <tr>\n",
       "      <th>1</th>\n",
       "      <td>1982.0</td>\n",
       "      <td>fraction not reviewed</td>\n",
       "      <td>1.0</td>\n",
       "    </tr>\n",
       "  </tbody>\n",
       "</table>\n",
       "</div>"
      ],
      "text/plain": [
       "     date               variable  value\n",
       "0  1981.0  fraction not reviewed    1.0\n",
       "1  1982.0  fraction not reviewed    1.0"
      ]
     },
     "execution_count": 7,
     "metadata": {},
     "output_type": "execute_result"
    }
   ],
   "source": [
    "# reformat above for plotly symbols per line\n",
    "fractions_df[DATE_K]  = fractions_df.index\n",
    "fractions_df.reset_index(drop=True, inplace=True)\n",
    "fractions_df = fractions_df.melt(\n",
    "    id_vars=DATE_K,\n",
    "    value_vars=fractions_df.columns[:3]\n",
    ")\n",
    "fractions_df.head(2)"
   ]
  },
  {
   "cell_type": "code",
   "execution_count": 8,
   "id": "1357fc3a-9c0a-48a1-94a2-08106b60ed5f",
   "metadata": {},
   "outputs": [
    {
     "data": {
      "text/html": [
       "<iframe\n",
       "    scrolling=\"no\"\n",
       "    width=\"100%\"\n",
       "    height=\"545px\"\n",
       "    src=\"iframe_figures/figure_8.html\"\n",
       "    frameborder=\"0\"\n",
       "    allowfullscreen\n",
       "></iframe>\n"
      ]
     },
     "metadata": {},
     "output_type": "display_data"
    }
   ],
   "source": [
    "fig = px.line(\n",
    "    fractions_df,\n",
    "    color='variable',\n",
    "    symbol='variable',\n",
    "    x=DATE_K,\n",
    "    y='value',\n",
    ")\n",
    "fig.update_xaxes(\n",
    "    range=[1980.5, 2023.5],\n",
    "    title='release date',\n",
    ")\n",
    "fig.update_yaxes(\n",
    "    title='',    # hide axis label\n",
    ")\n",
    "fig.update_traces(\n",
    "    marker={'size': 12,}\n",
    ")\n",
    "fig.update_layout(\n",
    "    font={'size': 24},\n",
    "    legend={'x':0.015, 'y': 0.5,},\n",
    "    legend_title=None,\n",
    ")"
   ]
  }
 ],
 "metadata": {
  "kernelspec": {
   "display_name": "Python 3 (ipykernel)",
   "language": "python",
   "name": "python3"
  },
  "language_info": {
   "codemirror_mode": {
    "name": "ipython",
    "version": 3
   },
   "file_extension": ".py",
   "mimetype": "text/x-python",
   "name": "python",
   "nbconvert_exporter": "python",
   "pygments_lexer": "ipython3",
   "version": "3.11.6"
  }
 },
 "nbformat": 4,
 "nbformat_minor": 5
}
